{
  "nbformat": 4,
  "nbformat_minor": 0,
  "metadata": {
    "kernelspec": {
      "display_name": "Python 3",
      "language": "python",
      "name": "python3"
    },
    "language_info": {
      "codemirror_mode": {
        "name": "ipython",
        "version": 3
      },
      "file_extension": ".py",
      "mimetype": "text/x-python",
      "name": "python",
      "nbconvert_exporter": "python",
      "pygments_lexer": "ipython3",
      "version": "3.7.1"
    },
    "colab": {
      "name": "SMLab-TwitterEDA-June2021.ipynb",
      "provenance": [],
      "collapsed_sections": [],
      "include_colab_link": true
    }
  },
  "cells": [
    {
      "cell_type": "markdown",
      "metadata": {
        "id": "view-in-github",
        "colab_type": "text"
      },
      "source": [
        "<a href=\"https://colab.research.google.com/github/smlabto/TwitterEDA/blob/main/SMLab_TwitterEDA_June2021.ipynb\" target=\"_parent\"><img src=\"https://colab.research.google.com/assets/colab-badge.svg\" alt=\"Open In Colab\"/></a>"
      ]
    },
    {
      "cell_type": "code",
      "metadata": {
        "id": "q7dwKs3mc7Bm"
      },
      "source": [
        "#Import required libraries\n",
        "import pandas as pd\n",
        "import seaborn as sns\n",
        "import matplotlib.pyplot as plt\n",
        "%matplotlib inline"
      ],
      "execution_count": null,
      "outputs": []
    },
    {
      "cell_type": "code",
      "metadata": {
        "id": "GXWcCoB3EM13"
      },
      "source": [
        "#Load the input file, change 'url2' to load your own CSV file. \n",
        "url='https://drive.google.com/file/d/1-tVaDuifkyhoBMZ7RoxTR82v6vCn56mB/view?usp=sharing'\n",
        "url2='https://drive.google.com/uc?id=' + url.split('/')[-2]\n",
        "\n",
        "pdf = pd.read_csv(url2)"
      ],
      "execution_count": null,
      "outputs": []
    },
    {
      "cell_type": "code",
      "metadata": {
        "id": "Dh72_E56cOxm",
        "colab": {
          "base_uri": "https://localhost:8080/",
          "height": 345
        },
        "outputId": "62b72771-0528-4de0-e5c3-43cd2572b82f"
      },
      "source": [
        "pdf.head(10)"
      ],
      "execution_count": null,
      "outputs": [
        {
          "output_type": "execute_result",
          "data": {
            "text/html": [
              "<div>\n",
              "<style scoped>\n",
              "    .dataframe tbody tr th:only-of-type {\n",
              "        vertical-align: middle;\n",
              "    }\n",
              "\n",
              "    .dataframe tbody tr th {\n",
              "        vertical-align: top;\n",
              "    }\n",
              "\n",
              "    .dataframe thead th {\n",
              "        text-align: right;\n",
              "    }\n",
              "</style>\n",
              "<table border=\"1\" class=\"dataframe\">\n",
              "  <thead>\n",
              "    <tr style=\"text-align: right;\">\n",
              "      <th></th>\n",
              "      <th>tweet_id</th>\n",
              "      <th>tweetstatus</th>\n",
              "      <th>language</th>\n",
              "      <th>Toxicity</th>\n",
              "      <th>Severe Toxicity</th>\n",
              "      <th>Profane</th>\n",
              "      <th>Identity Attack</th>\n",
              "      <th>Insult</th>\n",
              "      <th>Threat</th>\n",
              "      <th>Sexually Explicit</th>\n",
              "      <th>Flirtation</th>\n",
              "    </tr>\n",
              "  </thead>\n",
              "  <tbody>\n",
              "    <tr>\n",
              "      <th>0</th>\n",
              "      <td>1311970726077964288</td>\n",
              "      <td>TWEET_OK</td>\n",
              "      <td>und</td>\n",
              "      <td>0.119076</td>\n",
              "      <td>0.068905</td>\n",
              "      <td>0.147042</td>\n",
              "      <td>0.107139</td>\n",
              "      <td>0.110662</td>\n",
              "      <td>0.093267</td>\n",
              "      <td>0.136995</td>\n",
              "      <td>0.317990</td>\n",
              "    </tr>\n",
              "    <tr>\n",
              "      <th>1</th>\n",
              "      <td>1311970729882202120</td>\n",
              "      <td>TWEET_OK</td>\n",
              "      <td>en</td>\n",
              "      <td>0.086563</td>\n",
              "      <td>0.048753</td>\n",
              "      <td>0.090804</td>\n",
              "      <td>0.046894</td>\n",
              "      <td>0.084564</td>\n",
              "      <td>0.120585</td>\n",
              "      <td>0.057114</td>\n",
              "      <td>0.622633</td>\n",
              "    </tr>\n",
              "    <tr>\n",
              "      <th>2</th>\n",
              "      <td>1311970729878065152</td>\n",
              "      <td>TWEET_OK</td>\n",
              "      <td>en</td>\n",
              "      <td>0.061720</td>\n",
              "      <td>0.022030</td>\n",
              "      <td>0.041967</td>\n",
              "      <td>0.031802</td>\n",
              "      <td>0.045709</td>\n",
              "      <td>0.062502</td>\n",
              "      <td>0.068961</td>\n",
              "      <td>0.309925</td>\n",
              "    </tr>\n",
              "    <tr>\n",
              "      <th>3</th>\n",
              "      <td>1311970729542418434</td>\n",
              "      <td>TWEET_OK</td>\n",
              "      <td>en</td>\n",
              "      <td>0.084803</td>\n",
              "      <td>0.026625</td>\n",
              "      <td>0.034505</td>\n",
              "      <td>0.060155</td>\n",
              "      <td>0.098395</td>\n",
              "      <td>0.044585</td>\n",
              "      <td>0.034928</td>\n",
              "      <td>0.377152</td>\n",
              "    </tr>\n",
              "    <tr>\n",
              "      <th>4</th>\n",
              "      <td>1311970728460288000</td>\n",
              "      <td>TWEET_OK</td>\n",
              "      <td>en</td>\n",
              "      <td>0.242476</td>\n",
              "      <td>0.109693</td>\n",
              "      <td>0.135540</td>\n",
              "      <td>0.137921</td>\n",
              "      <td>0.294618</td>\n",
              "      <td>0.135197</td>\n",
              "      <td>0.106473</td>\n",
              "      <td>0.344011</td>\n",
              "    </tr>\n",
              "    <tr>\n",
              "      <th>5</th>\n",
              "      <td>1311970728309329921</td>\n",
              "      <td>TWEET_OK</td>\n",
              "      <td>en</td>\n",
              "      <td>0.153549</td>\n",
              "      <td>0.076977</td>\n",
              "      <td>0.151857</td>\n",
              "      <td>0.083806</td>\n",
              "      <td>0.144733</td>\n",
              "      <td>0.115679</td>\n",
              "      <td>0.138470</td>\n",
              "      <td>0.300352</td>\n",
              "    </tr>\n",
              "    <tr>\n",
              "      <th>6</th>\n",
              "      <td>1311970728066023425</td>\n",
              "      <td>TWEET_OK</td>\n",
              "      <td>en</td>\n",
              "      <td>0.093180</td>\n",
              "      <td>0.040252</td>\n",
              "      <td>0.071289</td>\n",
              "      <td>0.025562</td>\n",
              "      <td>0.072670</td>\n",
              "      <td>0.063429</td>\n",
              "      <td>0.049509</td>\n",
              "      <td>0.249411</td>\n",
              "    </tr>\n",
              "    <tr>\n",
              "      <th>7</th>\n",
              "      <td>1311970727277539329</td>\n",
              "      <td>TWEET_OK</td>\n",
              "      <td>en</td>\n",
              "      <td>0.587656</td>\n",
              "      <td>0.296264</td>\n",
              "      <td>0.369718</td>\n",
              "      <td>0.143736</td>\n",
              "      <td>0.635648</td>\n",
              "      <td>0.271658</td>\n",
              "      <td>0.124751</td>\n",
              "      <td>0.264067</td>\n",
              "    </tr>\n",
              "    <tr>\n",
              "      <th>8</th>\n",
              "      <td>1311970726866563073</td>\n",
              "      <td>TWEET_OK</td>\n",
              "      <td>en</td>\n",
              "      <td>0.059740</td>\n",
              "      <td>0.023231</td>\n",
              "      <td>0.039789</td>\n",
              "      <td>0.020359</td>\n",
              "      <td>0.040082</td>\n",
              "      <td>0.048825</td>\n",
              "      <td>0.022226</td>\n",
              "      <td>0.197688</td>\n",
              "    </tr>\n",
              "    <tr>\n",
              "      <th>9</th>\n",
              "      <td>1311970726665170944</td>\n",
              "      <td>TWEET_OK</td>\n",
              "      <td>en</td>\n",
              "      <td>0.079496</td>\n",
              "      <td>0.041154</td>\n",
              "      <td>0.092239</td>\n",
              "      <td>0.076223</td>\n",
              "      <td>0.049327</td>\n",
              "      <td>0.067674</td>\n",
              "      <td>0.056606</td>\n",
              "      <td>0.198862</td>\n",
              "    </tr>\n",
              "  </tbody>\n",
              "</table>\n",
              "</div>"
            ],
            "text/plain": [
              "              tweet_id tweetstatus  ... Sexually Explicit  Flirtation\n",
              "0  1311970726077964288    TWEET_OK  ...          0.136995    0.317990\n",
              "1  1311970729882202120    TWEET_OK  ...          0.057114    0.622633\n",
              "2  1311970729878065152    TWEET_OK  ...          0.068961    0.309925\n",
              "3  1311970729542418434    TWEET_OK  ...          0.034928    0.377152\n",
              "4  1311970728460288000    TWEET_OK  ...          0.106473    0.344011\n",
              "5  1311970728309329921    TWEET_OK  ...          0.138470    0.300352\n",
              "6  1311970728066023425    TWEET_OK  ...          0.049509    0.249411\n",
              "7  1311970727277539329    TWEET_OK  ...          0.124751    0.264067\n",
              "8  1311970726866563073    TWEET_OK  ...          0.022226    0.197688\n",
              "9  1311970726665170944    TWEET_OK  ...          0.056606    0.198862\n",
              "\n",
              "[10 rows x 11 columns]"
            ]
          },
          "metadata": {
            "tags": []
          },
          "execution_count": 3
        }
      ]
    },
    {
      "cell_type": "code",
      "metadata": {
        "id": "8xfQyqCDEXRd",
        "colab": {
          "base_uri": "https://localhost:8080/"
        },
        "outputId": "675d0c26-634e-434b-90ea-c2e34f09a171"
      },
      "source": [
        "#Display brief info about the dataset\n",
        "pdf.info()"
      ],
      "execution_count": null,
      "outputs": [
        {
          "output_type": "stream",
          "text": [
            "<class 'pandas.core.frame.DataFrame'>\n",
            "RangeIndex: 298173 entries, 0 to 298172\n",
            "Data columns (total 11 columns):\n",
            " #   Column             Non-Null Count   Dtype  \n",
            "---  ------             --------------   -----  \n",
            " 0   tweet_id           298173 non-null  int64  \n",
            " 1   tweetstatus        298173 non-null  object \n",
            " 2   language           298173 non-null  object \n",
            " 3   Toxicity           298173 non-null  float64\n",
            " 4   Severe Toxicity    298173 non-null  float64\n",
            " 5   Profane            298173 non-null  float64\n",
            " 6   Identity Attack    298173 non-null  float64\n",
            " 7   Insult             298173 non-null  float64\n",
            " 8   Threat             298173 non-null  float64\n",
            " 9   Sexually Explicit  298173 non-null  float64\n",
            " 10  Flirtation         298173 non-null  float64\n",
            "dtypes: float64(8), int64(1), object(2)\n",
            "memory usage: 25.0+ MB\n"
          ],
          "name": "stdout"
        }
      ]
    },
    {
      "cell_type": "code",
      "metadata": {
        "id": "UBLTtJpqZW3c",
        "colab": {
          "base_uri": "https://localhost:8080/"
        },
        "outputId": "60693bcf-1a00-41cb-e594-ef4101b504ab"
      },
      "source": [
        "pdf[\"language\"].unique()"
      ],
      "execution_count": null,
      "outputs": [
        {
          "output_type": "execute_result",
          "data": {
            "text/plain": [
              "array(['und', 'en', 'tl', 'de', 'ja', 'hi', 'es', 'zh', 'et', 'iw', 'ht',\n",
              "       'nl', 'in', 'ar', 'tr', 'vi', 'pl', 'am', 'fa', 'no', 'ru', 'fr',\n",
              "       'pt', 'it', 'cy', 'da', 'ko', 'el', 'is', 'sv', 'lv', 'lt', 'ckb',\n",
              "       'th', 'ca', 'eu', 'mr', 'ro', 'hu', 'bn', 'sl', 'ml', 'cs', 'ps',\n",
              "       'ur', 'fi', 'te', 'hy', 'ta', 'gu', 'ug', 'ka', 'pa', 'kn', 'ne',\n",
              "       'my', 'or', 'bg', 'si', 'uk', 'bo', 'km'], dtype=object)"
            ]
          },
          "metadata": {
            "tags": []
          },
          "execution_count": 5
        }
      ]
    },
    {
      "cell_type": "code",
      "metadata": {
        "id": "U0RaBWinEtnj",
        "colab": {
          "base_uri": "https://localhost:8080/"
        },
        "outputId": "fa656ca2-c5c3-43b6-ed8f-c43a47bb6712"
      },
      "source": [
        "#How many different languages used in the tweets?\n",
        "len(pdf[\"language\"].unique())"
      ],
      "execution_count": null,
      "outputs": [
        {
          "output_type": "execute_result",
          "data": {
            "text/plain": [
              "62"
            ]
          },
          "metadata": {
            "tags": []
          },
          "execution_count": 6
        }
      ]
    },
    {
      "cell_type": "code",
      "metadata": {
        "id": "MRx2je-QFYl2",
        "colab": {
          "base_uri": "https://localhost:8080/",
          "height": 345
        },
        "outputId": "31bf1279-b833-4080-ed03-a76f2401c1fa"
      },
      "source": [
        "#Top 10 most used languages\n",
        "pdf_en_count = pdf.groupby(\"language\")['tweet_id'].count().reset_index(name=\"count\").sort_values('count',ascending=False).head(10)\n",
        "pdf_en_count"
      ],
      "execution_count": null,
      "outputs": [
        {
          "output_type": "execute_result",
          "data": {
            "text/html": [
              "<div>\n",
              "<style scoped>\n",
              "    .dataframe tbody tr th:only-of-type {\n",
              "        vertical-align: middle;\n",
              "    }\n",
              "\n",
              "    .dataframe tbody tr th {\n",
              "        vertical-align: top;\n",
              "    }\n",
              "\n",
              "    .dataframe thead th {\n",
              "        text-align: right;\n",
              "    }\n",
              "</style>\n",
              "<table border=\"1\" class=\"dataframe\">\n",
              "  <thead>\n",
              "    <tr style=\"text-align: right;\">\n",
              "      <th></th>\n",
              "      <th>language</th>\n",
              "      <th>count</th>\n",
              "    </tr>\n",
              "  </thead>\n",
              "  <tbody>\n",
              "    <tr>\n",
              "      <th>12</th>\n",
              "      <td>en</td>\n",
              "      <td>247975</td>\n",
              "    </tr>\n",
              "    <tr>\n",
              "      <th>58</th>\n",
              "      <td>und</td>\n",
              "      <td>33335</td>\n",
              "    </tr>\n",
              "    <tr>\n",
              "      <th>13</th>\n",
              "      <td>es</td>\n",
              "      <td>2871</td>\n",
              "    </tr>\n",
              "    <tr>\n",
              "      <th>54</th>\n",
              "      <td>tl</td>\n",
              "      <td>1927</td>\n",
              "    </tr>\n",
              "    <tr>\n",
              "      <th>24</th>\n",
              "      <td>in</td>\n",
              "      <td>1074</td>\n",
              "    </tr>\n",
              "    <tr>\n",
              "      <th>61</th>\n",
              "      <td>zh</td>\n",
              "      <td>1056</td>\n",
              "    </tr>\n",
              "    <tr>\n",
              "      <th>21</th>\n",
              "      <td>ht</td>\n",
              "      <td>988</td>\n",
              "    </tr>\n",
              "    <tr>\n",
              "      <th>14</th>\n",
              "      <td>et</td>\n",
              "      <td>976</td>\n",
              "    </tr>\n",
              "    <tr>\n",
              "      <th>1</th>\n",
              "      <td>ar</td>\n",
              "      <td>946</td>\n",
              "    </tr>\n",
              "    <tr>\n",
              "      <th>28</th>\n",
              "      <td>ja</td>\n",
              "      <td>816</td>\n",
              "    </tr>\n",
              "  </tbody>\n",
              "</table>\n",
              "</div>"
            ],
            "text/plain": [
              "   language   count\n",
              "12       en  247975\n",
              "58      und   33335\n",
              "13       es    2871\n",
              "54       tl    1927\n",
              "24       in    1074\n",
              "61       zh    1056\n",
              "21       ht     988\n",
              "14       et     976\n",
              "1        ar     946\n",
              "28       ja     816"
            ]
          },
          "metadata": {
            "tags": []
          },
          "execution_count": 7
        }
      ]
    },
    {
      "cell_type": "code",
      "metadata": {
        "id": "AiaBZVqLr94V",
        "colab": {
          "base_uri": "https://localhost:8080/",
          "height": 196
        },
        "outputId": "5c309e9a-7eec-4659-b9f4-b955f34a4c10"
      },
      "source": [
        "#Filter dataframe for tweets only in english language\n",
        "pdf_en = pdf[pdf['language']=='en']\n",
        "pdf_en.head()"
      ],
      "execution_count": null,
      "outputs": [
        {
          "output_type": "execute_result",
          "data": {
            "text/html": [
              "<div>\n",
              "<style scoped>\n",
              "    .dataframe tbody tr th:only-of-type {\n",
              "        vertical-align: middle;\n",
              "    }\n",
              "\n",
              "    .dataframe tbody tr th {\n",
              "        vertical-align: top;\n",
              "    }\n",
              "\n",
              "    .dataframe thead th {\n",
              "        text-align: right;\n",
              "    }\n",
              "</style>\n",
              "<table border=\"1\" class=\"dataframe\">\n",
              "  <thead>\n",
              "    <tr style=\"text-align: right;\">\n",
              "      <th></th>\n",
              "      <th>tweet_id</th>\n",
              "      <th>tweetstatus</th>\n",
              "      <th>language</th>\n",
              "      <th>Toxicity</th>\n",
              "      <th>Severe Toxicity</th>\n",
              "      <th>Profane</th>\n",
              "      <th>Identity Attack</th>\n",
              "      <th>Insult</th>\n",
              "      <th>Threat</th>\n",
              "      <th>Sexually Explicit</th>\n",
              "      <th>Flirtation</th>\n",
              "    </tr>\n",
              "  </thead>\n",
              "  <tbody>\n",
              "    <tr>\n",
              "      <th>1</th>\n",
              "      <td>1311970729882202120</td>\n",
              "      <td>TWEET_OK</td>\n",
              "      <td>en</td>\n",
              "      <td>0.086563</td>\n",
              "      <td>0.048753</td>\n",
              "      <td>0.090804</td>\n",
              "      <td>0.046894</td>\n",
              "      <td>0.084564</td>\n",
              "      <td>0.120585</td>\n",
              "      <td>0.057114</td>\n",
              "      <td>0.622633</td>\n",
              "    </tr>\n",
              "    <tr>\n",
              "      <th>2</th>\n",
              "      <td>1311970729878065152</td>\n",
              "      <td>TWEET_OK</td>\n",
              "      <td>en</td>\n",
              "      <td>0.061720</td>\n",
              "      <td>0.022030</td>\n",
              "      <td>0.041967</td>\n",
              "      <td>0.031802</td>\n",
              "      <td>0.045709</td>\n",
              "      <td>0.062502</td>\n",
              "      <td>0.068961</td>\n",
              "      <td>0.309925</td>\n",
              "    </tr>\n",
              "    <tr>\n",
              "      <th>3</th>\n",
              "      <td>1311970729542418434</td>\n",
              "      <td>TWEET_OK</td>\n",
              "      <td>en</td>\n",
              "      <td>0.084803</td>\n",
              "      <td>0.026625</td>\n",
              "      <td>0.034505</td>\n",
              "      <td>0.060155</td>\n",
              "      <td>0.098395</td>\n",
              "      <td>0.044585</td>\n",
              "      <td>0.034928</td>\n",
              "      <td>0.377152</td>\n",
              "    </tr>\n",
              "    <tr>\n",
              "      <th>4</th>\n",
              "      <td>1311970728460288000</td>\n",
              "      <td>TWEET_OK</td>\n",
              "      <td>en</td>\n",
              "      <td>0.242476</td>\n",
              "      <td>0.109693</td>\n",
              "      <td>0.135540</td>\n",
              "      <td>0.137921</td>\n",
              "      <td>0.294618</td>\n",
              "      <td>0.135197</td>\n",
              "      <td>0.106473</td>\n",
              "      <td>0.344011</td>\n",
              "    </tr>\n",
              "    <tr>\n",
              "      <th>5</th>\n",
              "      <td>1311970728309329921</td>\n",
              "      <td>TWEET_OK</td>\n",
              "      <td>en</td>\n",
              "      <td>0.153549</td>\n",
              "      <td>0.076977</td>\n",
              "      <td>0.151857</td>\n",
              "      <td>0.083806</td>\n",
              "      <td>0.144733</td>\n",
              "      <td>0.115679</td>\n",
              "      <td>0.138470</td>\n",
              "      <td>0.300352</td>\n",
              "    </tr>\n",
              "  </tbody>\n",
              "</table>\n",
              "</div>"
            ],
            "text/plain": [
              "              tweet_id tweetstatus  ... Sexually Explicit  Flirtation\n",
              "1  1311970729882202120    TWEET_OK  ...          0.057114    0.622633\n",
              "2  1311970729878065152    TWEET_OK  ...          0.068961    0.309925\n",
              "3  1311970729542418434    TWEET_OK  ...          0.034928    0.377152\n",
              "4  1311970728460288000    TWEET_OK  ...          0.106473    0.344011\n",
              "5  1311970728309329921    TWEET_OK  ...          0.138470    0.300352\n",
              "\n",
              "[5 rows x 11 columns]"
            ]
          },
          "metadata": {
            "tags": []
          },
          "execution_count": 8
        }
      ]
    },
    {
      "cell_type": "code",
      "metadata": {
        "id": "NUJxtLk3tk2t",
        "colab": {
          "base_uri": "https://localhost:8080/",
          "height": 196
        },
        "outputId": "056d1d58-39d1-40e5-f807-e0e85afcbfa7"
      },
      "source": [
        "#Create feature dataframe for further analysis from the pdf_en dataframe\n",
        "pdf_en_feature = pdf_en[[\"Toxicity\",\"Severe Toxicity\", \"Profane\", \"Identity Attack\", \"Insult\", \"Threat\"]]\n",
        "pdf_en_feature.head()"
      ],
      "execution_count": null,
      "outputs": [
        {
          "output_type": "execute_result",
          "data": {
            "text/html": [
              "<div>\n",
              "<style scoped>\n",
              "    .dataframe tbody tr th:only-of-type {\n",
              "        vertical-align: middle;\n",
              "    }\n",
              "\n",
              "    .dataframe tbody tr th {\n",
              "        vertical-align: top;\n",
              "    }\n",
              "\n",
              "    .dataframe thead th {\n",
              "        text-align: right;\n",
              "    }\n",
              "</style>\n",
              "<table border=\"1\" class=\"dataframe\">\n",
              "  <thead>\n",
              "    <tr style=\"text-align: right;\">\n",
              "      <th></th>\n",
              "      <th>Toxicity</th>\n",
              "      <th>Severe Toxicity</th>\n",
              "      <th>Profane</th>\n",
              "      <th>Identity Attack</th>\n",
              "      <th>Insult</th>\n",
              "      <th>Threat</th>\n",
              "    </tr>\n",
              "  </thead>\n",
              "  <tbody>\n",
              "    <tr>\n",
              "      <th>1</th>\n",
              "      <td>0.086563</td>\n",
              "      <td>0.048753</td>\n",
              "      <td>0.090804</td>\n",
              "      <td>0.046894</td>\n",
              "      <td>0.084564</td>\n",
              "      <td>0.120585</td>\n",
              "    </tr>\n",
              "    <tr>\n",
              "      <th>2</th>\n",
              "      <td>0.061720</td>\n",
              "      <td>0.022030</td>\n",
              "      <td>0.041967</td>\n",
              "      <td>0.031802</td>\n",
              "      <td>0.045709</td>\n",
              "      <td>0.062502</td>\n",
              "    </tr>\n",
              "    <tr>\n",
              "      <th>3</th>\n",
              "      <td>0.084803</td>\n",
              "      <td>0.026625</td>\n",
              "      <td>0.034505</td>\n",
              "      <td>0.060155</td>\n",
              "      <td>0.098395</td>\n",
              "      <td>0.044585</td>\n",
              "    </tr>\n",
              "    <tr>\n",
              "      <th>4</th>\n",
              "      <td>0.242476</td>\n",
              "      <td>0.109693</td>\n",
              "      <td>0.135540</td>\n",
              "      <td>0.137921</td>\n",
              "      <td>0.294618</td>\n",
              "      <td>0.135197</td>\n",
              "    </tr>\n",
              "    <tr>\n",
              "      <th>5</th>\n",
              "      <td>0.153549</td>\n",
              "      <td>0.076977</td>\n",
              "      <td>0.151857</td>\n",
              "      <td>0.083806</td>\n",
              "      <td>0.144733</td>\n",
              "      <td>0.115679</td>\n",
              "    </tr>\n",
              "  </tbody>\n",
              "</table>\n",
              "</div>"
            ],
            "text/plain": [
              "   Toxicity  Severe Toxicity   Profane  Identity Attack    Insult    Threat\n",
              "1  0.086563         0.048753  0.090804         0.046894  0.084564  0.120585\n",
              "2  0.061720         0.022030  0.041967         0.031802  0.045709  0.062502\n",
              "3  0.084803         0.026625  0.034505         0.060155  0.098395  0.044585\n",
              "4  0.242476         0.109693  0.135540         0.137921  0.294618  0.135197\n",
              "5  0.153549         0.076977  0.151857         0.083806  0.144733  0.115679"
            ]
          },
          "metadata": {
            "tags": []
          },
          "execution_count": 9
        }
      ]
    },
    {
      "cell_type": "code",
      "metadata": {
        "colab": {
          "base_uri": "https://localhost:8080/",
          "height": 140
        },
        "id": "bbJVS2hltkwR",
        "outputId": "76adea0d-60d6-4cac-b753-25d748db83f7"
      },
      "source": [
        "# distribution of toxic score values\n",
        "# note: sns.histplot requires seaborn ver. 0.11+\n",
        "number_of_columns = 8\n",
        "number_of_rows =  1\n",
        "l = pdf_en_feature.columns.values\n",
        "plt.figure(figsize=(20,3))\n",
        "for i in range(0,len(l)):\n",
        "    plt.subplot(number_of_rows + 1,number_of_columns,i+1)\n",
        "    sns.histplot(pdf_en_feature[l[i]],kde=True)"
      ],
      "execution_count": null,
      "outputs": [
        {
          "output_type": "display_data",
          "data": {
            "image/png": "[encoded data removed]",
            "text/plain": [
              "<Figure size 1440x216 with 6 Axes>"
            ]
          },
          "metadata": {
            "tags": [],
            "needs_background": "light"
          }
        }
      ]
    },
    {
      "cell_type": "code",
      "metadata": {
        "id": "Ua0oZ_NbulgF"
      },
      "source": [
        "#Get the correlation matrix of the features dataframe\n",
        "corr_mat = pdf_en_feature.corr()"
      ],
      "execution_count": null,
      "outputs": []
    },
    {
      "cell_type": "code",
      "metadata": {
        "colab": {
          "base_uri": "https://localhost:8080/",
          "height": 350
        },
        "id": "fOfiZCV0ulcl",
        "outputId": "3731160c-fbf0-4c8c-87c3-90ae8064d9cc"
      },
      "source": [
        "#Create correlation heatmap from the correlation matrix\n",
        "sns.heatmap(corr_mat,cmap='Reds', annot=True,\n",
        "        xticklabels=[\"Toxicity\",\"Severe Toxicity\", \"Profane\", \"Identity Attack\", \"Insult\", \"Threat\"],\n",
        "        yticklabels=[\"Toxicity\",\"Severe Toxicity\", \"Profane\", \"Identity Attack\", \"Insult\", \"Threat\"])"
      ],
      "execution_count": null,
      "outputs": [
        {
          "output_type": "execute_result",
          "data": {
            "text/plain": [
              "<matplotlib.axes._subplots.AxesSubplot at 0x7f68d9b55e90>"
            ]
          },
          "metadata": {
            "tags": []
          },
          "execution_count": 13
        },
        {
          "output_type": "display_data",
          "data": {
            "image/png": "[encoded data removed]",
            "text/plain": [
              "<Figure size 432x288 with 2 Axes>"
            ]
          },
          "metadata": {
            "tags": [],
            "needs_background": "light"
          }
        }
      ]
    },
    {
      "cell_type": "code",
      "metadata": {
        "colab": {
          "base_uri": "https://localhost:8080/"
        },
        "id": "sxWc8lQhg2Oo",
        "outputId": "8cfda63d-0582-4c02-c5d2-ce3e691c1bb2"
      },
      "source": [
        "pdf[\"tweetstatus\"].unique()"
      ],
      "execution_count": null,
      "outputs": [
        {
          "output_type": "execute_result",
          "data": {
            "text/plain": [
              "array(['TWEET_OK', 'TWEET_DELETED', 'USER_SUSPENDED', 'USER_PROTECTED',\n",
              "       'USER_DELETED', 'TWEET_BLOCKED'], dtype=object)"
            ]
          },
          "metadata": {
            "tags": []
          },
          "execution_count": 14
        }
      ]
    },
    {
      "cell_type": "code",
      "metadata": {
        "colab": {
          "base_uri": "https://localhost:8080/",
          "height": 226
        },
        "id": "5STjVMEYulZw",
        "outputId": "87780717-0b7b-45de-d889-5b50b767f63d"
      },
      "source": [
        "#explain tweet status\n",
        "#Count tweets based on 'tweet status'\n",
        "pdf_en_tweetStatusCount = pdf_en.groupby(pdf_en['tweetstatus'])['tweet_id'].count().reset_index(name='count').sort_values('count',ascending=False)\n",
        "pdf_en_tweetStatusCount"
      ],
      "execution_count": null,
      "outputs": [
        {
          "output_type": "execute_result",
          "data": {
            "text/html": [
              "<div>\n",
              "<style scoped>\n",
              "    .dataframe tbody tr th:only-of-type {\n",
              "        vertical-align: middle;\n",
              "    }\n",
              "\n",
              "    .dataframe tbody tr th {\n",
              "        vertical-align: top;\n",
              "    }\n",
              "\n",
              "    .dataframe thead th {\n",
              "        text-align: right;\n",
              "    }\n",
              "</style>\n",
              "<table border=\"1\" class=\"dataframe\">\n",
              "  <thead>\n",
              "    <tr style=\"text-align: right;\">\n",
              "      <th></th>\n",
              "      <th>tweetstatus</th>\n",
              "      <th>count</th>\n",
              "    </tr>\n",
              "  </thead>\n",
              "  <tbody>\n",
              "    <tr>\n",
              "      <th>2</th>\n",
              "      <td>TWEET_OK</td>\n",
              "      <td>238272</td>\n",
              "    </tr>\n",
              "    <tr>\n",
              "      <th>1</th>\n",
              "      <td>TWEET_DELETED</td>\n",
              "      <td>4133</td>\n",
              "    </tr>\n",
              "    <tr>\n",
              "      <th>5</th>\n",
              "      <td>USER_SUSPENDED</td>\n",
              "      <td>2391</td>\n",
              "    </tr>\n",
              "    <tr>\n",
              "      <th>3</th>\n",
              "      <td>USER_DELETED</td>\n",
              "      <td>1401</td>\n",
              "    </tr>\n",
              "    <tr>\n",
              "      <th>4</th>\n",
              "      <td>USER_PROTECTED</td>\n",
              "      <td>1087</td>\n",
              "    </tr>\n",
              "    <tr>\n",
              "      <th>0</th>\n",
              "      <td>TWEET_BLOCKED</td>\n",
              "      <td>691</td>\n",
              "    </tr>\n",
              "  </tbody>\n",
              "</table>\n",
              "</div>"
            ],
            "text/plain": [
              "      tweetstatus   count\n",
              "2        TWEET_OK  238272\n",
              "1   TWEET_DELETED    4133\n",
              "5  USER_SUSPENDED    2391\n",
              "3    USER_DELETED    1401\n",
              "4  USER_PROTECTED    1087\n",
              "0   TWEET_BLOCKED     691"
            ]
          },
          "metadata": {
            "tags": []
          },
          "execution_count": 15
        }
      ]
    },
    {
      "cell_type": "code",
      "metadata": {
        "colab": {
          "base_uri": "https://localhost:8080/",
          "height": 378
        },
        "id": "eEiOS7ZEulWR",
        "outputId": "f8285099-9955-4b18-bd95-98f0cdbd6166"
      },
      "source": [
        "#Bar plot of tweet status counts (log-scale)\n",
        "sns.set_theme(style=\"whitegrid\")\n",
        "plt.xticks(rotation=90)\n",
        "ax1 = sns.barplot(x=\"tweetstatus\", y=\"count\", data=pdf_en_tweetStatusCount)\n",
        "ax1.set_yscale(\"log\")"
      ],
      "execution_count": null,
      "outputs": [
        {
          "output_type": "display_data",
          "data": {
            "image/png": "[encoded data removed]",
            "text/plain": [
              "<Figure size 432x288 with 1 Axes>"
            ]
          },
          "metadata": {
            "tags": []
          }
        }
      ]
    },
    {
      "cell_type": "code",
      "metadata": {
        "colab": {
          "base_uri": "https://localhost:8080/",
          "height": 226
        },
        "id": "nXZRKTdFulTP",
        "outputId": "b4eeac82-dca7-4b55-ed9d-e45d45736bf9"
      },
      "source": [
        "#Average toxicity based on the tweet status\n",
        "pdf_en_avgToxicity_vs_status = pdf_en.groupby(pdf_en['tweetstatus'])['Toxicity'].agg(\"mean\").reset_index(name=\"avg_toxicity\")\n",
        "pdf_en_avgToxicity_vs_status"
      ],
      "execution_count": null,
      "outputs": [
        {
          "output_type": "execute_result",
          "data": {
            "text/html": [
              "<div>\n",
              "<style scoped>\n",
              "    .dataframe tbody tr th:only-of-type {\n",
              "        vertical-align: middle;\n",
              "    }\n",
              "\n",
              "    .dataframe tbody tr th {\n",
              "        vertical-align: top;\n",
              "    }\n",
              "\n",
              "    .dataframe thead th {\n",
              "        text-align: right;\n",
              "    }\n",
              "</style>\n",
              "<table border=\"1\" class=\"dataframe\">\n",
              "  <thead>\n",
              "    <tr style=\"text-align: right;\">\n",
              "      <th></th>\n",
              "      <th>tweetstatus</th>\n",
              "      <th>avg_toxicity</th>\n",
              "    </tr>\n",
              "  </thead>\n",
              "  <tbody>\n",
              "    <tr>\n",
              "      <th>0</th>\n",
              "      <td>TWEET_BLOCKED</td>\n",
              "      <td>0.819918</td>\n",
              "    </tr>\n",
              "    <tr>\n",
              "      <th>1</th>\n",
              "      <td>TWEET_DELETED</td>\n",
              "      <td>0.403394</td>\n",
              "    </tr>\n",
              "    <tr>\n",
              "      <th>2</th>\n",
              "      <td>TWEET_OK</td>\n",
              "      <td>0.340719</td>\n",
              "    </tr>\n",
              "    <tr>\n",
              "      <th>3</th>\n",
              "      <td>USER_DELETED</td>\n",
              "      <td>0.388920</td>\n",
              "    </tr>\n",
              "    <tr>\n",
              "      <th>4</th>\n",
              "      <td>USER_PROTECTED</td>\n",
              "      <td>0.373923</td>\n",
              "    </tr>\n",
              "    <tr>\n",
              "      <th>5</th>\n",
              "      <td>USER_SUSPENDED</td>\n",
              "      <td>0.401506</td>\n",
              "    </tr>\n",
              "  </tbody>\n",
              "</table>\n",
              "</div>"
            ],
            "text/plain": [
              "      tweetstatus  avg_toxicity\n",
              "0   TWEET_BLOCKED      0.819918\n",
              "1   TWEET_DELETED      0.403394\n",
              "2        TWEET_OK      0.340719\n",
              "3    USER_DELETED      0.388920\n",
              "4  USER_PROTECTED      0.373923\n",
              "5  USER_SUSPENDED      0.401506"
            ]
          },
          "metadata": {
            "tags": []
          },
          "execution_count": 17
        }
      ]
    },
    {
      "cell_type": "code",
      "metadata": {
        "colab": {
          "base_uri": "https://localhost:8080/",
          "height": 356
        },
        "id": "RlIXuJavulP1",
        "outputId": "491ba2db-1264-4c7d-f5ab-d72518af0847"
      },
      "source": [
        "#Bar graph for average toxicity versus tweet status\n",
        "sns.set_theme(style=\"whitegrid\")\n",
        "plt.figure(figsize=(8,4))\n",
        "plt.xticks(rotation=45)\n",
        "ax2 = sns.barplot(x=\"tweetstatus\", y=\"avg_toxicity\", data=pdf_en_avgToxicity_vs_status)\n",
        "for index, row in pdf_en_avgToxicity_vs_status.iterrows():\n",
        "    ax2.text(row.name,row.avg_toxicity, round(row.avg_toxicity,2), color='black', ha=\"center\")"
      ],
      "execution_count": null,
      "outputs": [
        {
          "output_type": "display_data",
          "data": {
            "image/png": "[encoded data removed]",
            "text/plain": [
              "<Figure size 576x288 with 1 Axes>"
            ]
          },
          "metadata": {
            "tags": []
          }
        }
      ]
    },
    {
      "cell_type": "code",
      "metadata": {
        "id": "bq7EzAz5pZZh"
      },
      "source": [
        ""
      ],
      "execution_count": null,
      "outputs": []
    }
  ]
}